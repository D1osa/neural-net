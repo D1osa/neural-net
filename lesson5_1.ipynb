{
  "nbformat": 4,
  "nbformat_minor": 0,
  "metadata": {
    "colab": {
      "provenance": []
    },
    "kernelspec": {
      "name": "python3",
      "display_name": "Python 3"
    },
    "language_info": {
      "name": "python"
    }
  },
  "cells": [
    {
      "cell_type": "code",
      "execution_count": 1,
      "metadata": {
        "id": "TcEKBJenkVzI"
      },
      "outputs": [],
      "source": [
        "import numpy as np\n",
        "import pandas as pd"
      ]
    },
    {
      "cell_type": "code",
      "source": [
        "import matplotlib.pyplot as plt\n",
        "import seaborn as sns\n",
        "from scipy import stats\n",
        "from keras.datasets import imdb\n",
        "from keras_preprocessing.sequence import pad_sequences\n",
        "from keras.models import Sequential\n",
        "from keras.layers import Embedding\n",
        "from keras.layers import SimpleRNN, Dense, Activation"
      ],
      "metadata": {
        "id": "kzPerUSEkid1"
      },
      "execution_count": 3,
      "outputs": []
    },
    {
      "cell_type": "code",
      "source": [
        "top_words = 10000\n",
        "(X_train, y_train),(X_test, y_test) = imdb.load_data(path='/content/drive/MyDrive/title_basics.csv', nb_words=top_words)"
      ],
      "metadata": {
        "colab": {
          "base_uri": "https://localhost:8080/"
        },
        "id": "ea_j0CiGkig5",
        "outputId": "aeab3581-d8bd-4089-da4e-2cfcf5948b62"
      },
      "execution_count": 4,
      "outputs": [
        {
          "output_type": "stream",
          "name": "stderr",
          "text": [
            "WARNING:tensorflow:The `nb_words` argument in `load_data` has been renamed `num_words`.\n"
          ]
        }
      ]
    },
    {
      "cell_type": "code",
      "source": [
        "print(\"Type: \", type(X_train))\n",
        "print(\"Type: \", type(y_train))"
      ],
      "metadata": {
        "colab": {
          "base_uri": "https://localhost:8080/"
        },
        "id": "fLQTi1pxkijz",
        "outputId": "822b4160-95fd-4dae-a0eb-211f4d04c002"
      },
      "execution_count": 5,
      "outputs": [
        {
          "output_type": "stream",
          "name": "stdout",
          "text": [
            "Type:  <class 'numpy.ndarray'>\n",
            "Type:  <class 'numpy.ndarray'>\n"
          ]
        }
      ]
    },
    {
      "cell_type": "code",
      "source": [
        "print(\"X train shape: \",X_train.shape)\n",
        "print(\"Y train shape: \",y_train.shape)\n",
        "print(\"X train shape: \",X_test.shape)\n",
        "print(\"Y train shape: \",y_test.shape)"
      ],
      "metadata": {
        "colab": {
          "base_uri": "https://localhost:8080/"
        },
        "id": "zjF5rYOWkioN",
        "outputId": "28ca8228-0fc5-48b8-fba9-e6b7a88aa8b3"
      },
      "execution_count": 6,
      "outputs": [
        {
          "output_type": "stream",
          "name": "stdout",
          "text": [
            "X train shape:  (25000,)\n",
            "Y train shape:  (25000,)\n",
            "X train shape:  (25000,)\n",
            "Y train shape:  (25000,)\n"
          ]
        }
      ]
    },
    {
      "cell_type": "code",
      "source": [
        "print(\"Y train values: \",np.unique(y_train))\n",
        "print(\"Y test values: \",np.unique(y_test))\n",
        "\n",
        "unique, counts = np.unique(y_train, return_counts = True)\n",
        "print(\"Y train distribution: \",dict(zip(unique,counts)))\n",
        "\n",
        "unique, counts = np.unique(y_test, return_counts = True)\n",
        "print(\"Y testdistribution: \",dict(zip(unique,counts)))\n",
        "\n",
        "plt.figure()\n",
        "sns.countplot(y_train)\n",
        "plt.xlabel(\"Classes\")\n",
        "plt.ylabel(\"Freq\")\n",
        "plt.title(\"Y train\")\n",
        "\n",
        "plt.figure()\n",
        "sns.countplot(y_test)\n",
        "plt.xlabel(\"Classes\")\n",
        "plt.ylabel(\"Freq\")\n",
        "plt.title(\"Y test\")\n",
        "\n",
        "d = X_train[0]\n",
        "print(d)\n",
        "print(len(d))\n",
        "\n",
        "review_len_train = []\n",
        "review_len_test = []\n",
        "for i, ii in zip(X_train, X_test):\n",
        "    review_len_train.append(len(i))\n",
        "    review_len_test.append(len(ii))"
      ],
      "metadata": {
        "colab": {
          "base_uri": "https://localhost:8080/",
          "height": 782
        },
        "id": "7eOQPYYskiqy",
        "outputId": "0df744d2-6dda-484d-f432-7c286fb3051d"
      },
      "execution_count": 7,
      "outputs": [
        {
          "output_type": "stream",
          "name": "stdout",
          "text": [
            "Y train values:  [0 1]\n",
            "Y test values:  [0 1]\n",
            "Y train distribution:  {0: 12500, 1: 12500}\n",
            "Y testdistribution:  {0: 12500, 1: 12500}\n",
            "[1, 14, 22, 16, 43, 530, 973, 1622, 1385, 65, 458, 4468, 66, 3941, 4, 173, 36, 256, 5, 25, 100, 43, 838, 112, 50, 670, 2, 9, 35, 480, 284, 5, 150, 4, 172, 112, 167, 2, 336, 385, 39, 4, 172, 4536, 1111, 17, 546, 38, 13, 447, 4, 192, 50, 16, 6, 147, 2025, 19, 14, 22, 4, 1920, 4613, 469, 4, 22, 71, 87, 12, 16, 43, 530, 38, 76, 15, 13, 1247, 4, 22, 17, 515, 17, 12, 16, 626, 18, 2, 5, 62, 386, 12, 8, 316, 8, 106, 5, 4, 2223, 5244, 16, 480, 66, 3785, 33, 4, 130, 12, 16, 38, 619, 5, 25, 124, 51, 36, 135, 48, 25, 1415, 33, 6, 22, 12, 215, 28, 77, 52, 5, 14, 407, 16, 82, 2, 8, 4, 107, 117, 5952, 15, 256, 4, 2, 7, 3766, 5, 723, 36, 71, 43, 530, 476, 26, 400, 317, 46, 7, 4, 2, 1029, 13, 104, 88, 4, 381, 15, 297, 98, 32, 2071, 56, 26, 141, 6, 194, 7486, 18, 4, 226, 22, 21, 134, 476, 26, 480, 5, 144, 30, 5535, 18, 51, 36, 28, 224, 92, 25, 104, 4, 226, 65, 16, 38, 1334, 88, 12, 16, 283, 5, 16, 4472, 113, 103, 32, 15, 16, 5345, 19, 178, 32]\n",
            "218\n"
          ]
        },
        {
          "output_type": "stream",
          "name": "stderr",
          "text": [
            "/usr/local/lib/python3.7/dist-packages/seaborn/_decorators.py:43: FutureWarning: Pass the following variable as a keyword arg: x. From version 0.12, the only valid positional argument will be `data`, and passing other arguments without an explicit keyword will result in an error or misinterpretation.\n",
            "  FutureWarning\n",
            "/usr/local/lib/python3.7/dist-packages/seaborn/_decorators.py:43: FutureWarning: Pass the following variable as a keyword arg: x. From version 0.12, the only valid positional argument will be `data`, and passing other arguments without an explicit keyword will result in an error or misinterpretation.\n",
            "  FutureWarning\n"
          ]
        },
        {
          "output_type": "display_data",
          "data": {
            "text/plain": [
              "<Figure size 432x288 with 1 Axes>"
            ],
            "image/png": "[encoded data removed]"
          },
          "metadata": {
            "needs_background": "light"
          }
        },
        {
          "output_type": "display_data",
          "data": {
            "text/plain": [
              "<Figure size 432x288 with 1 Axes>"
            ],
            "image/png": "[encoded data removed]"
          },
          "metadata": {
            "needs_background": "light"
          }
        }
      ]
    },
    {
      "cell_type": "code",
      "source": [
        "sns.distplot(review_len_train, hist_kws = {\"alpha\":0.3})\n",
        "sns.distplot(review_len_test, hist_kws = {\"alpha\":0.3})\n",
        "\n",
        "print(\"Train mean:\", np.mean(review_len_train))\n",
        "print(\"Train median:\", np.median(review_len_train))\n",
        "print(\"Train mode:\", stats.mode(review_len_train))"
      ],
      "metadata": {
        "colab": {
          "base_uri": "https://localhost:8080/",
          "height": 417
        },
        "id": "YUYYJ1PYkis4",
        "outputId": "54227f80-1774-40c2-f4d1-82ddf1d3db31"
      },
      "execution_count": 8,
      "outputs": [
        {
          "output_type": "stream",
          "name": "stderr",
          "text": [
            "/usr/local/lib/python3.7/dist-packages/seaborn/distributions.py:2619: FutureWarning: `distplot` is a deprecated function and will be removed in a future version. Please adapt your code to use either `displot` (a figure-level function with similar flexibility) or `histplot` (an axes-level function for histograms).\n",
            "  warnings.warn(msg, FutureWarning)\n",
            "/usr/local/lib/python3.7/dist-packages/seaborn/distributions.py:2619: FutureWarning: `distplot` is a deprecated function and will be removed in a future version. Please adapt your code to use either `displot` (a figure-level function with similar flexibility) or `histplot` (an axes-level function for histograms).\n",
            "  warnings.warn(msg, FutureWarning)\n"
          ]
        },
        {
          "output_type": "stream",
          "name": "stdout",
          "text": [
            "Train mean: 238.71364\n",
            "Train median: 178.0\n",
            "Train mode: ModeResult(mode=array([132]), count=array([196]))\n"
          ]
        },
        {
          "output_type": "display_data",
          "data": {
            "text/plain": [
              "<Figure size 432x288 with 1 Axes>"
            ],
            "image/png": "[encoded data removed]"
          },
          "metadata": {
            "needs_background": "light"
          }
        }
      ]
    },
    {
      "cell_type": "code",
      "source": [
        "num_words = 10240 #15000\n",
        "(X_train, Y_train), (X_test, Y_test) = imdb.load_data(num_words=num_words)\n",
        "\n",
        "maxlen = 32 #130\n",
        "X_train = pad_sequences(X_train, maxlen=maxlen)\n",
        "X_test = pad_sequences(X_test, maxlen=maxlen)\n",
        "\n",
        "print(X_train[5])\n",
        "\n",
        "for i in X_train[0:10]:\n",
        "    print(len(i))"
      ],
      "metadata": {
        "colab": {
          "base_uri": "https://localhost:8080/"
        },
        "id": "8uE1G437kivh",
        "outputId": "71890efc-ef7a-44b1-ff81-12d8fbe44aad"
      },
      "execution_count": 9,
      "outputs": [
        {
          "output_type": "stream",
          "name": "stdout",
          "text": [
            "Downloading data from https://storage.googleapis.com/tensorflow/tf-keras-datasets/imdb.npz\n",
            "17464789/17464789 [==============================] - 1s 0us/step\n",
            "[1051    2   32   85  156   45   40  148  139  121  664  665   10   10\n",
            " 1361  173    4  749    2   16 3804    8    4  226   65   12   43  127\n",
            "   24    2   10   10]\n",
            "32\n",
            "32\n",
            "32\n",
            "32\n",
            "32\n",
            "32\n",
            "32\n",
            "32\n",
            "32\n",
            "32\n"
          ]
        }
      ]
    },
    {
      "cell_type": "code",
      "source": [
        "rnn = Sequential()\n",
        "rnn.add(Embedding(num_words, 16, input_length = (maxlen))) #32\n",
        "rnn.add(SimpleRNN(16, input_shape = (num_words,maxlen), return_sequences= False, activation= \"tanh\"))\n",
        "rnn.add(Dense(1))\n",
        "rnn.add(Activation(\"sigmoid\"))\n",
        "\n",
        "print(rnn.summary())\n",
        "rnn.compile(loss = \"binary_crossentropy\", optimizer=\"adam\",metrics= [\"accuracy\"]) #rmsprop\n",
        "history = rnn.fit(X_train, Y_train, validation_data= (X_test, Y_test), epochs=10, batch_size= 128, verbose=1)"
      ],
      "metadata": {
        "colab": {
          "base_uri": "https://localhost:8080/"
        },
        "id": "ruNlUmcgkiyG",
        "outputId": "263b48f8-d521-4331-eace-7962463ac24f"
      },
      "execution_count": 10,
      "outputs": [
        {
          "output_type": "stream",
          "name": "stdout",
          "text": [
            "Model: \"sequential\"\n",
            "_________________________________________________________________\n",
            " Layer (type)                Output Shape              Param #   \n",
            "=================================================================\n",
            " embedding (Embedding)       (None, 32, 16)            163840    \n",
            "                                                                 \n",
            " simple_rnn (SimpleRNN)      (None, 16)                528       \n",
            "                                                                 \n",
            " dense (Dense)               (None, 1)                 17        \n",
            "                                                                 \n",
            " activation (Activation)     (None, 1)                 0         \n",
            "                                                                 \n",
            "=================================================================\n",
            "Total params: 164,385\n",
            "Trainable params: 164,385\n",
            "Non-trainable params: 0\n",
            "_________________________________________________________________\n",
            "None\n",
            "Epoch 1/10\n",
            "196/196 [==============================] - 5s 16ms/step - loss: 0.6492 - accuracy: 0.6029 - val_loss: 0.5522 - val_accuracy: 0.7359\n",
            "Epoch 2/10\n",
            "196/196 [==============================] - 3s 14ms/step - loss: 0.4328 - accuracy: 0.8061 - val_loss: 0.4593 - val_accuracy: 0.7816\n",
            "Epoch 3/10\n",
            "196/196 [==============================] - 3s 14ms/step - loss: 0.3032 - accuracy: 0.8795 - val_loss: 0.4826 - val_accuracy: 0.7762\n",
            "Epoch 4/10\n",
            "196/196 [==============================] - 3s 14ms/step - loss: 0.1971 - accuracy: 0.9331 - val_loss: 0.5561 - val_accuracy: 0.7640\n",
            "Epoch 5/10\n",
            "196/196 [==============================] - 3s 14ms/step - loss: 0.1181 - accuracy: 0.9663 - val_loss: 0.6377 - val_accuracy: 0.7569\n",
            "Epoch 6/10\n",
            "196/196 [==============================] - 3s 14ms/step - loss: 0.0684 - accuracy: 0.9830 - val_loss: 0.7250 - val_accuracy: 0.7530\n",
            "Epoch 7/10\n",
            "196/196 [==============================] - 3s 14ms/step - loss: 0.0374 - accuracy: 0.9932 - val_loss: 0.8039 - val_accuracy: 0.7468\n",
            "Epoch 8/10\n",
            "196/196 [==============================] - 3s 14ms/step - loss: 0.0213 - accuracy: 0.9968 - val_loss: 0.8672 - val_accuracy: 0.7391\n",
            "Epoch 9/10\n",
            "196/196 [==============================] - 3s 14ms/step - loss: 0.0118 - accuracy: 0.9987 - val_loss: 0.9418 - val_accuracy: 0.7459\n",
            "Epoch 10/10\n",
            "196/196 [==============================] - 4s 22ms/step - loss: 0.0069 - accuracy: 0.9994 - val_loss: 0.9836 - val_accuracy: 0.7405\n"
          ]
        }
      ]
    },
    {
      "cell_type": "code",
      "source": [
        "print(\"Accuracy: %\",history.history[\"accuracy\"][-1]*100)\n",
        "\n",
        "plt.figure()\n",
        "plt.plot(history.history[\"accuracy\"], label = \"Train\")\n",
        "plt.plot(history.history[\"val_accuracy\"], label = \"Test\")\n",
        "plt.title(\"Acc\")\n",
        "plt.ylabel(\"Acc\")\n",
        "plt.xlabel(\"Epochs\")\n",
        "plt.legend()\n",
        "plt.show()\n",
        "\n",
        "plt.figure()\n",
        "plt.plot(history.history[\"loss\"], label = \"Train\")\n",
        "plt.plot(history.history[\"val_loss\"], label = \"Test\")\n",
        "plt.title(\"Acc\")\n",
        "plt.ylabel(\"Acc\")\n",
        "plt.xlabel(\"Epochs\")\n",
        "plt.legend()\n",
        "plt.show()"
      ],
      "metadata": {
        "colab": {
          "base_uri": "https://localhost:8080/",
          "height": 592
        },
        "id": "Z-RlD2eMki4V",
        "outputId": "2a51161d-fa65-4481-d02a-996f3a47ccd7"
      },
      "execution_count": 11,
      "outputs": [
        {
          "output_type": "stream",
          "name": "stdout",
          "text": [
            "Accuracy: % 99.93600249290466\n"
          ]
        },
        {
          "output_type": "display_data",
          "data": {
            "text/plain": [
              "<Figure size 432x288 with 1 Axes>"
            ],
            "image/png": "[encoded data removed]"
          },
          "metadata": {
            "needs_background": "light"
          }
        },
        {
          "output_type": "display_data",
          "data": {
            "text/plain": [
              "<Figure size 432x288 with 1 Axes>"
            ],
            "image/png": "[encoded data removed]"
          },
          "metadata": {
            "needs_background": "light"
          }
        }
      ]
    }
  ]
}