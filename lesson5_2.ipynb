{
  "nbformat": 4,
  "nbformat_minor": 0,
  "metadata": {
    "colab": {
      "provenance": []
    },
    "kernelspec": {
      "name": "python3",
      "display_name": "Python 3"
    },
    "language_info": {
      "name": "python"
    }
  },
  "cells": [
    {
      "cell_type": "code",
      "execution_count": 138,
      "metadata": {
        "id": "NEXd_pFwwx1J"
      },
      "outputs": [],
      "source": [
        "import os\n",
        "os.environ['TF_CPP_MIN_LOG_LEVEL'] = '2'"
      ]
    },
    {
      "cell_type": "code",
      "source": [
        "import numpy as np\n",
        "from tensorflow.keras.layers import Dense, SimpleRNN, Input\n",
        "from tensorflow.keras.models import Sequential\n",
        "from tensorflow.keras.preprocessing.text import Tokenizer, text_to_word_sequence\n",
        "from tensorflow.keras.utils import to_categorical"
      ],
      "metadata": {
        "id": "4lbFxuFM2r4e"
      },
      "execution_count": 139,
      "outputs": []
    },
    {
      "cell_type": "code",
      "source": [
        "with open('/content/drive/MyDrive/Анна Каренина (отрывок).TXT', 'r', encoding='utf-8') as f:\n",
        "    texts = f.read()\n",
        "    texts = texts.replace('\\ufeff', '') "
      ],
      "metadata": {
        "id": "PkK2-6Xw2r6-"
      },
      "execution_count": 140,
      "outputs": []
    },
    {
      "cell_type": "code",
      "source": [
        "maxWordsCount = 1000\n",
        "tokenizer = Tokenizer(num_words=maxWordsCount, filters='!–\"—#$%&amp;()*+,-./:;<=>?@[\\\\]^_`{|}~\\t\\n\\r«»',\n",
        "                      lower=True, split=' ', char_level=False)\n",
        "tokenizer.fit_on_texts([texts])"
      ],
      "metadata": {
        "id": "IQy0T6cc2r9G"
      },
      "execution_count": 141,
      "outputs": []
    },
    {
      "cell_type": "code",
      "source": [
        "dist = list(tokenizer.word_counts.items())\n",
        "print(dist[:10])"
      ],
      "metadata": {
        "colab": {
          "base_uri": "https://localhost:8080/"
        },
        "id": "woAsIoKE2r_J",
        "outputId": "04241588-227f-4f79-9c1d-b28c4fb98b76"
      },
      "execution_count": 142,
      "outputs": [
        {
          "output_type": "stream",
          "name": "stdout",
          "text": [
            "[('лев', 1), ('николаевич', 1), ('толстой', 1), ('анна', 4), ('каренина', 2), ('мне', 11), ('отмщение', 1), ('и', 387), ('аз', 1), ('воздам', 1)]\n"
          ]
        }
      ]
    },
    {
      "cell_type": "code",
      "source": [
        "data = tokenizer.texts_to_sequences([texts])\n",
        "res = to_categorical(data[0], num_classes=maxWordsCount)\n",
        "print(res.shape)"
      ],
      "metadata": {
        "colab": {
          "base_uri": "https://localhost:8080/"
        },
        "id": "EaT52yOW2sBO",
        "outputId": "24f36811-f62a-4d8e-a536-4b3d7c66d9b9"
      },
      "execution_count": 143,
      "outputs": [
        {
          "output_type": "stream",
          "name": "stdout",
          "text": [
            "(6196, 1000)\n"
          ]
        }
      ]
    },
    {
      "cell_type": "code",
      "source": [
        "inp_words = 3\n",
        "n = res.shape[0] - inp_words"
      ],
      "metadata": {
        "id": "pgeITH-N2sDT"
      },
      "execution_count": 144,
      "outputs": []
    },
    {
      "cell_type": "code",
      "source": [
        "X = np.array([res[i:i + inp_words, :] for i in range(n)])\n",
        "Y = res[inp_words:]"
      ],
      "metadata": {
        "id": "fT4bFDKH2sFq"
      },
      "execution_count": 145,
      "outputs": []
    },
    {
      "cell_type": "code",
      "source": [
        "model = Sequential()\n",
        "model.add(Input((inp_words, maxWordsCount)))\n",
        "model.add(SimpleRNN(128, activation='tanh'))\n",
        "model.add(Dense(maxWordsCount, activation='softmax'))\n",
        "model.summary()"
      ],
      "metadata": {
        "colab": {
          "base_uri": "https://localhost:8080/"
        },
        "id": "01_RX3x03HyG",
        "outputId": "c14e9f09-4e72-4ccc-98ff-600d33bf621b"
      },
      "execution_count": 146,
      "outputs": [
        {
          "output_type": "stream",
          "name": "stdout",
          "text": [
            "Model: \"sequential_9\"\n",
            "_________________________________________________________________\n",
            " Layer (type)                Output Shape              Param #   \n",
            "=================================================================\n",
            " simple_rnn_2 (SimpleRNN)    (None, 128)               144512    \n",
            "                                                                 \n",
            " dense_4 (Dense)             (None, 1000)              129000    \n",
            "                                                                 \n",
            "=================================================================\n",
            "Total params: 273,512\n",
            "Trainable params: 273,512\n",
            "Non-trainable params: 0\n",
            "_________________________________________________________________\n"
          ]
        }
      ]
    },
    {
      "cell_type": "code",
      "source": [
        "model.compile(loss='categorical_crossentropy', metrics=['accuracy'], optimizer='adam')"
      ],
      "metadata": {
        "id": "ySKu6kJG3H3i"
      },
      "execution_count": 147,
      "outputs": []
    },
    {
      "cell_type": "code",
      "source": [
        "history = model.fit(X, Y, batch_size=32, epochs=50)"
      ],
      "metadata": {
        "colab": {
          "base_uri": "https://localhost:8080/"
        },
        "id": "D334g3wE3H6q",
        "outputId": "de2dcb84-3524-4d8a-c1df-474a9ecf8de5"
      },
      "execution_count": 148,
      "outputs": [
        {
          "output_type": "stream",
          "name": "stdout",
          "text": [
            "Epoch 1/50\n",
            "194/194 [==============================] - 3s 9ms/step - loss: 6.2384 - accuracy: 0.0578\n",
            "Epoch 2/50\n",
            "194/194 [==============================] - 2s 9ms/step - loss: 5.7942 - accuracy: 0.0625\n",
            "Epoch 3/50\n",
            "194/194 [==============================] - 2s 9ms/step - loss: 5.6410 - accuracy: 0.0706\n",
            "Epoch 4/50\n",
            "194/194 [==============================] - 2s 9ms/step - loss: 5.3929 - accuracy: 0.0943\n",
            "Epoch 5/50\n",
            "194/194 [==============================] - 2s 9ms/step - loss: 5.0241 - accuracy: 0.1277\n",
            "Epoch 6/50\n",
            "194/194 [==============================] - 2s 9ms/step - loss: 4.5904 - accuracy: 0.1744\n",
            "Epoch 7/50\n",
            "194/194 [==============================] - 2s 9ms/step - loss: 4.1456 - accuracy: 0.2117\n",
            "Epoch 8/50\n",
            "194/194 [==============================] - 2s 9ms/step - loss: 3.7381 - accuracy: 0.2567\n",
            "Epoch 9/50\n",
            "194/194 [==============================] - 2s 9ms/step - loss: 3.3738 - accuracy: 0.3007\n",
            "Epoch 10/50\n",
            "194/194 [==============================] - 2s 9ms/step - loss: 3.0605 - accuracy: 0.3391\n",
            "Epoch 11/50\n",
            "194/194 [==============================] - 2s 9ms/step - loss: 2.7893 - accuracy: 0.3757\n",
            "Epoch 12/50\n",
            "194/194 [==============================] - 2s 9ms/step - loss: 2.5621 - accuracy: 0.4101\n",
            "Epoch 13/50\n",
            "194/194 [==============================] - 2s 9ms/step - loss: 2.3660 - accuracy: 0.4497\n",
            "Epoch 14/50\n",
            "194/194 [==============================] - 2s 9ms/step - loss: 2.1950 - accuracy: 0.4836\n",
            "Epoch 15/50\n",
            "194/194 [==============================] - 2s 9ms/step - loss: 2.0426 - accuracy: 0.5180\n",
            "Epoch 16/50\n",
            "194/194 [==============================] - 2s 9ms/step - loss: 1.9077 - accuracy: 0.5522\n",
            "Epoch 17/50\n",
            "194/194 [==============================] - 2s 9ms/step - loss: 1.7837 - accuracy: 0.5840\n",
            "Epoch 18/50\n",
            "194/194 [==============================] - 2s 9ms/step - loss: 1.6709 - accuracy: 0.6088\n",
            "Epoch 19/50\n",
            "194/194 [==============================] - 2s 9ms/step - loss: 1.5683 - accuracy: 0.6339\n",
            "Epoch 20/50\n",
            "194/194 [==============================] - 2s 9ms/step - loss: 1.4756 - accuracy: 0.6532\n",
            "Epoch 21/50\n",
            "194/194 [==============================] - 2s 9ms/step - loss: 1.3850 - accuracy: 0.6708\n",
            "Epoch 22/50\n",
            "194/194 [==============================] - 2s 9ms/step - loss: 1.2989 - accuracy: 0.6927\n",
            "Epoch 23/50\n",
            "194/194 [==============================] - 2s 9ms/step - loss: 1.2264 - accuracy: 0.7116\n",
            "Epoch 24/50\n",
            "194/194 [==============================] - 2s 9ms/step - loss: 1.1594 - accuracy: 0.7252\n",
            "Epoch 25/50\n",
            "194/194 [==============================] - 2s 10ms/step - loss: 1.0938 - accuracy: 0.7376\n",
            "Epoch 26/50\n",
            "194/194 [==============================] - 2s 10ms/step - loss: 1.0317 - accuracy: 0.7539\n",
            "Epoch 27/50\n",
            "194/194 [==============================] - 2s 9ms/step - loss: 0.9726 - accuracy: 0.7707\n",
            "Epoch 28/50\n",
            "194/194 [==============================] - 2s 10ms/step - loss: 0.9247 - accuracy: 0.7794\n",
            "Epoch 29/50\n",
            "194/194 [==============================] - 2s 10ms/step - loss: 0.8712 - accuracy: 0.7923\n",
            "Epoch 30/50\n",
            "194/194 [==============================] - 2s 11ms/step - loss: 0.8284 - accuracy: 0.7974\n",
            "Epoch 31/50\n",
            "194/194 [==============================] - 2s 12ms/step - loss: 0.7824 - accuracy: 0.8156\n",
            "Epoch 32/50\n",
            "194/194 [==============================] - 2s 10ms/step - loss: 0.7421 - accuracy: 0.8188\n",
            "Epoch 33/50\n",
            "194/194 [==============================] - 2s 11ms/step - loss: 0.7090 - accuracy: 0.8314\n",
            "Epoch 34/50\n",
            "194/194 [==============================] - 2s 10ms/step - loss: 0.6730 - accuracy: 0.8359\n",
            "Epoch 35/50\n",
            "194/194 [==============================] - 2s 10ms/step - loss: 0.6402 - accuracy: 0.8477\n",
            "Epoch 36/50\n",
            "194/194 [==============================] - 2s 9ms/step - loss: 0.6062 - accuracy: 0.8555\n",
            "Epoch 37/50\n",
            "194/194 [==============================] - 2s 10ms/step - loss: 0.5807 - accuracy: 0.8555\n",
            "Epoch 38/50\n",
            "194/194 [==============================] - 2s 10ms/step - loss: 0.5524 - accuracy: 0.8639\n",
            "Epoch 39/50\n",
            "194/194 [==============================] - 2s 10ms/step - loss: 0.5263 - accuracy: 0.8726\n",
            "Epoch 40/50\n",
            "194/194 [==============================] - 2s 9ms/step - loss: 0.5025 - accuracy: 0.8741\n",
            "Epoch 41/50\n",
            "194/194 [==============================] - 2s 10ms/step - loss: 0.4814 - accuracy: 0.8797\n",
            "Epoch 42/50\n",
            "194/194 [==============================] - 2s 10ms/step - loss: 0.4587 - accuracy: 0.8870\n",
            "Epoch 43/50\n",
            "194/194 [==============================] - 2s 10ms/step - loss: 0.4414 - accuracy: 0.8892\n",
            "Epoch 44/50\n",
            "194/194 [==============================] - 2s 10ms/step - loss: 0.4217 - accuracy: 0.8946\n",
            "Epoch 45/50\n",
            "194/194 [==============================] - 2s 10ms/step - loss: 0.4034 - accuracy: 0.8968\n",
            "Epoch 46/50\n",
            "194/194 [==============================] - 2s 10ms/step - loss: 0.3859 - accuracy: 0.9026\n",
            "Epoch 47/50\n",
            "194/194 [==============================] - 2s 9ms/step - loss: 0.3719 - accuracy: 0.9036\n",
            "Epoch 48/50\n",
            "194/194 [==============================] - 2s 11ms/step - loss: 0.3543 - accuracy: 0.9088\n",
            "Epoch 49/50\n",
            "194/194 [==============================] - 2s 10ms/step - loss: 0.3407 - accuracy: 0.9143\n",
            "Epoch 50/50\n",
            "194/194 [==============================] - 2s 9ms/step - loss: 0.3281 - accuracy: 0.9167\n"
          ]
        }
      ]
    },
    {
      "cell_type": "code",
      "source": [
        "def buildPhrase(texts, str_len=20):\n",
        "    res = texts\n",
        "    data = tokenizer.texts_to_sequences([texts])[0]\n",
        "    for i in range(str_len):\n",
        "        x = to_categorical(data[i: i + inp_words], num_classes=maxWordsCount)  # преобразуем в One-Hot-encoding\n",
        "        inp = x.reshape(1, inp_words, maxWordsCount)\n",
        "\n",
        "        pred = model.predict(inp)\n",
        "        indx = pred.argmax(axis=1)[0]\n",
        "        data.append(indx)\n",
        "\n",
        "        res += \" \" + tokenizer.index_word[indx]  # дописываем строку\n",
        "\n",
        "    return res"
      ],
      "metadata": {
        "id": "4IPxBHvC3Vaw"
      },
      "execution_count": 149,
      "outputs": []
    },
    {
      "cell_type": "code",
      "source": [
        "res = buildPhrase(\"каждая несчастливая семья\")\n",
        "print(res)"
      ],
      "metadata": {
        "colab": {
          "base_uri": "https://localhost:8080/"
        },
        "id": "ZTYMzSXl3Vlc",
        "outputId": "2c38a1db-a3be-4b46-df2b-1473a864fd98"
      },
      "execution_count": 152,
      "outputs": [
        {
          "output_type": "stream",
          "name": "stdout",
          "text": [
            "1/1 [==============================] - 0s 22ms/step\n",
            "1/1 [==============================] - 0s 23ms/step\n",
            "1/1 [==============================] - 0s 22ms/step\n",
            "1/1 [==============================] - 0s 22ms/step\n",
            "1/1 [==============================] - 0s 22ms/step\n",
            "1/1 [==============================] - 0s 23ms/step\n",
            "1/1 [==============================] - 0s 21ms/step\n",
            "1/1 [==============================] - 0s 20ms/step\n",
            "1/1 [==============================] - 0s 18ms/step\n",
            "1/1 [==============================] - 0s 23ms/step\n",
            "1/1 [==============================] - 0s 20ms/step\n",
            "1/1 [==============================] - 0s 21ms/step\n",
            "1/1 [==============================] - 0s 23ms/step\n",
            "1/1 [==============================] - 0s 19ms/step\n",
            "1/1 [==============================] - 0s 21ms/step\n",
            "1/1 [==============================] - 0s 19ms/step\n",
            "1/1 [==============================] - 0s 20ms/step\n",
            "1/1 [==============================] - 0s 19ms/step\n",
            "1/1 [==============================] - 0s 22ms/step\n",
            "1/1 [==============================] - 0s 19ms/step\n",
            "каждая несчастливая семья несчастлива по своему все не ее и дал ей к и как и даже и своим и написал ей к\n"
          ]
        }
      ]
    }
  ]
}