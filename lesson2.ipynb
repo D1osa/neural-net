{
  "nbformat": 4,
  "nbformat_minor": 0,
  "metadata": {
    "colab": {
      "provenance": [],
      "collapsed_sections": []
    },
    "kernelspec": {
      "name": "python3",
      "display_name": "Python 3"
    },
    "language_info": {
      "name": "python"
    }
  },
  "cells": [
    {
      "cell_type": "code",
      "execution_count": null,
      "metadata": {
        "id": "9fhnqOjW6XDH"
      },
      "outputs": [],
      "source": [
        "import numpy as np\n",
        "import keras\n",
        "from keras.models import Sequential\n",
        "from keras.layers import Dense\n",
        "from keras.utils import to_categorical\n",
        "from keras.datasets import fashion_mnist\n",
        "\n",
        "import matplotlib.pyplot as plt\n",
        "import pandas as pd"
      ]
    },
    {
      "cell_type": "code",
      "source": [
        "(train_images,train_labels),(test_images,test_labels)=fashion_mnist.load_data()"
      ],
      "metadata": {
        "colab": {
          "base_uri": "https://localhost:8080/"
        },
        "id": "MAaiMSck6h5t",
        "outputId": "c31e82ed-7f7e-4cfd-ae91-7dde4b6c7750"
      },
      "execution_count": null,
      "outputs": [
        {
          "output_type": "stream",
          "name": "stdout",
          "text": [
            "Downloading data from https://storage.googleapis.com/tensorflow/tf-keras-datasets/train-labels-idx1-ubyte.gz\n",
            "29515/29515 [==============================] - 0s 0us/step\n",
            "Downloading data from https://storage.googleapis.com/tensorflow/tf-keras-datasets/train-images-idx3-ubyte.gz\n",
            "26421880/26421880 [==============================] - 0s 0us/step\n",
            "Downloading data from https://storage.googleapis.com/tensorflow/tf-keras-datasets/t10k-labels-idx1-ubyte.gz\n",
            "5148/5148 [==============================] - 0s 0us/step\n",
            "Downloading data from https://storage.googleapis.com/tensorflow/tf-keras-datasets/t10k-images-idx3-ubyte.gz\n",
            "4422102/4422102 [==============================] - 0s 0us/step\n"
          ]
        }
      ]
    },
    {
      "cell_type": "code",
      "source": [
        "plt.imshow(train_images[10,:,:])\n",
        "plt.show()"
      ],
      "metadata": {
        "colab": {
          "base_uri": "https://localhost:8080/",
          "height": 265
        },
        "id": "duTfb0eb6jon",
        "outputId": "996e8518-55be-4b97-e84d-e531b99ab188"
      },
      "execution_count": null,
      "outputs": [
        {
          "output_type": "display_data",
          "data": {
            "text/plain": [
              "<Figure size 432x288 with 1 Axes>"
            ],
            "image/png": "[encoded data removed]"
          },
          "metadata": {
            "needs_background": "light"
          }
        }
      ]
    },
    {
      "cell_type": "code",
      "source": [
        "train_images.shape"
      ],
      "metadata": {
        "colab": {
          "base_uri": "https://localhost:8080/"
        },
        "id": "DbTWwbBe6pSm",
        "outputId": "3878bcf2-0cef-487a-c237-8bf7f7ee48e4"
      },
      "execution_count": null,
      "outputs": [
        {
          "output_type": "execute_result",
          "data": {
            "text/plain": [
              "(60000, 28, 28)"
            ]
          },
          "metadata": {},
          "execution_count": 5
        }
      ]
    },
    {
      "cell_type": "code",
      "source": [
        "train_images = (train_images / 255) - 0.5\n",
        "test_images = (test_images / 255) - 0.5"
      ],
      "metadata": {
        "id": "HMpQYL1T6vRN"
      },
      "execution_count": null,
      "outputs": []
    },
    {
      "cell_type": "code",
      "source": [
        "print(train_images.shape) # (60000, 28, 28)\n",
        "print(test_images.shape)  # (10000, 28, 28)"
      ],
      "metadata": {
        "colab": {
          "base_uri": "https://localhost:8080/"
        },
        "id": "TmvNAUgT6vbV",
        "outputId": "2fcce60a-8983-48e4-effd-091acde9ebf6"
      },
      "execution_count": null,
      "outputs": [
        {
          "output_type": "stream",
          "name": "stdout",
          "text": [
            "(60000, 28, 28)\n",
            "(10000, 28, 28)\n"
          ]
        }
      ]
    },
    {
      "cell_type": "code",
      "source": [
        "train_images = train_images.reshape((-1, train_images.shape[1] * train_images.shape[2]))\n",
        "test_images = test_images.reshape((-1, test_images.shape[1] * test_images.shape[2]))\n",
        "\n",
        "print(train_images.shape) # (60000, 784)\n",
        "print(test_images.shape)  # (10000, 784)"
      ],
      "metadata": {
        "colab": {
          "base_uri": "https://localhost:8080/"
        },
        "id": "tRkS-gok60TC",
        "outputId": "96435f11-37d4-48b6-cb6b-182cfb81d89c"
      },
      "execution_count": null,
      "outputs": [
        {
          "output_type": "stream",
          "name": "stdout",
          "text": [
            "(60000, 784)\n",
            "(10000, 784)\n"
          ]
        }
      ]
    },
    {
      "cell_type": "code",
      "source": [
        "np.unique(train_labels)"
      ],
      "metadata": {
        "colab": {
          "base_uri": "https://localhost:8080/"
        },
        "id": "KUXc4-3n6vka",
        "outputId": "db83ad4f-a226-4d78-e48f-f3bf3a388e2d"
      },
      "execution_count": null,
      "outputs": [
        {
          "output_type": "execute_result",
          "data": {
            "text/plain": [
              "array([0, 1, 2, 3, 4, 5, 6, 7, 8, 9], dtype=uint8)"
            ]
          },
          "metadata": {},
          "execution_count": 9
        }
      ]
    },
    {
      "cell_type": "code",
      "source": [
        "model1 = Sequential(name='my_model1')\n",
        "model1.add(Dense(128, activation='relu', input_shape=(784,)))\n",
        "\n",
        "model1.add(Dense(10, activation='softmax'))"
      ],
      "metadata": {
        "id": "ciST3Jxf6vqq"
      },
      "execution_count": null,
      "outputs": []
    },
    {
      "cell_type": "code",
      "source": [
        "model1.compile(\n",
        "  optimizer='adam',\n",
        "  loss='categorical_crossentropy',\n",
        "  metrics=['accuracy'],\n",
        ")"
      ],
      "metadata": {
        "id": "fEKl2-Ne6vuE"
      },
      "execution_count": null,
      "outputs": []
    },
    {
      "cell_type": "code",
      "source": [
        "model1.summary()"
      ],
      "metadata": {
        "colab": {
          "base_uri": "https://localhost:8080/"
        },
        "id": "NXXFPOLY7B7P",
        "outputId": "6acb80cc-309e-4018-9cba-88456ea3bcfa"
      },
      "execution_count": null,
      "outputs": [
        {
          "output_type": "stream",
          "name": "stdout",
          "text": [
            "Model: \"my_model1\"\n",
            "_________________________________________________________________\n",
            " Layer (type)                Output Shape              Param #   \n",
            "=================================================================\n",
            " dense (Dense)               (None, 128)               100480    \n",
            "                                                                 \n",
            " dense_1 (Dense)             (None, 10)                1290      \n",
            "                                                                 \n",
            "=================================================================\n",
            "Total params: 101,770\n",
            "Trainable params: 101,770\n",
            "Non-trainable params: 0\n",
            "_________________________________________________________________\n"
          ]
        }
      ]
    },
    {
      "cell_type": "code",
      "source": [
        "hh = model1.fit(\n",
        "  train_images,\n",
        "  to_categorical(train_labels),\n",
        "  epochs=5,\n",
        "  batch_size=32, validation_split=0.2\n",
        ")\n",
        "\n",
        "model1.evaluate(\n",
        "  test_images,\n",
        "  to_categorical(test_labels)\n",
        ")\n",
        "\n",
        "predictions = model1.predict(test_images[:5])\n",
        "\n",
        "print(np.argmax(predictions, axis=1)) \n",
        "\n",
        "print(test_labels[:5]) "
      ],
      "metadata": {
        "colab": {
          "base_uri": "https://localhost:8080/"
        },
        "id": "SAeMvETt7B-D",
        "outputId": "e09f1207-708a-4aba-cf7e-a1697907a054"
      },
      "execution_count": null,
      "outputs": [
        {
          "output_type": "stream",
          "name": "stdout",
          "text": [
            "Epoch 1/5\n",
            "1500/1500 [==============================] - 10s 6ms/step - loss: 0.4991 - accuracy: 0.8208 - val_loss: 0.4253 - val_accuracy: 0.8449\n",
            "Epoch 2/5\n",
            "1500/1500 [==============================] - 7s 5ms/step - loss: 0.3840 - accuracy: 0.8606 - val_loss: 0.3814 - val_accuracy: 0.8614\n",
            "Epoch 3/5\n",
            "1500/1500 [==============================] - 7s 5ms/step - loss: 0.3471 - accuracy: 0.8725 - val_loss: 0.3602 - val_accuracy: 0.8717\n",
            "Epoch 4/5\n",
            "1500/1500 [==============================] - 6s 4ms/step - loss: 0.3217 - accuracy: 0.8834 - val_loss: 0.3489 - val_accuracy: 0.8723\n",
            "Epoch 5/5\n",
            "1500/1500 [==============================] - 7s 4ms/step - loss: 0.3030 - accuracy: 0.8887 - val_loss: 0.3980 - val_accuracy: 0.8554\n",
            "313/313 [==============================] - 1s 2ms/step - loss: 0.4189 - accuracy: 0.8443\n",
            "1/1 [==============================] - 0s 90ms/step\n",
            "[9 2 1 1 6]\n",
            "[9 2 1 1 6]\n"
          ]
        }
      ]
    },
    {
      "cell_type": "code",
      "source": [
        "hh.history"
      ],
      "metadata": {
        "colab": {
          "base_uri": "https://localhost:8080/"
        },
        "id": "ssHK6MMH7CAq",
        "outputId": "f6d7d59a-f5d6-42f9-b81c-6ff913774fc7"
      },
      "execution_count": null,
      "outputs": [
        {
          "output_type": "execute_result",
          "data": {
            "text/plain": [
              "{'loss': [0.49913427233695984,\n",
              "  0.3840453028678894,\n",
              "  0.3470517694950104,\n",
              "  0.3217220604419708,\n",
              "  0.3030042052268982],\n",
              " 'accuracy': [0.8208333253860474,\n",
              "  0.8605833053588867,\n",
              "  0.8724583387374878,\n",
              "  0.8834166526794434,\n",
              "  0.8887291550636292],\n",
              " 'val_loss': [0.42533525824546814,\n",
              "  0.38137003779411316,\n",
              "  0.3601757287979126,\n",
              "  0.34885334968566895,\n",
              "  0.39802631735801697],\n",
              " 'val_accuracy': [0.8449166417121887,\n",
              "  0.8614166378974915,\n",
              "  0.871666669845581,\n",
              "  0.8722500205039978,\n",
              "  0.8554166555404663]}"
            ]
          },
          "metadata": {},
          "execution_count": 14
        }
      ]
    },
    {
      "cell_type": "code",
      "source": [
        "model2 = Sequential(name='my_model2')\n",
        "model2.add(Dense(64, activation='relu', input_shape=(784,)))\n",
        "\n",
        "model2.add(Dense(10, activation='softmax'))"
      ],
      "metadata": {
        "id": "5Up5Iaa37CDB"
      },
      "execution_count": null,
      "outputs": []
    },
    {
      "cell_type": "code",
      "source": [
        "model2.compile(\n",
        "  optimizer='adam',\n",
        "  loss='categorical_crossentropy',\n",
        "  metrics=['accuracy'],\n",
        ")"
      ],
      "metadata": {
        "id": "del8do_t7CFG"
      },
      "execution_count": null,
      "outputs": []
    },
    {
      "cell_type": "code",
      "source": [
        "model2.summary()"
      ],
      "metadata": {
        "colab": {
          "base_uri": "https://localhost:8080/"
        },
        "id": "FcaqOig97CHL",
        "outputId": "a0e26e19-bee7-4e49-c08e-ca800d42d4cd"
      },
      "execution_count": null,
      "outputs": [
        {
          "output_type": "stream",
          "name": "stdout",
          "text": [
            "Model: \"my_model2\"\n",
            "_________________________________________________________________\n",
            " Layer (type)                Output Shape              Param #   \n",
            "=================================================================\n",
            " dense_2 (Dense)             (None, 64)                50240     \n",
            "                                                                 \n",
            " dense_3 (Dense)             (None, 10)                650       \n",
            "                                                                 \n",
            "=================================================================\n",
            "Total params: 50,890\n",
            "Trainable params: 50,890\n",
            "Non-trainable params: 0\n",
            "_________________________________________________________________\n"
          ]
        }
      ]
    },
    {
      "cell_type": "code",
      "source": [
        "hh2 = model2.fit(\n",
        "  train_images,\n",
        "  to_categorical(train_labels),\n",
        "  epochs=5,\n",
        "  batch_size=32, validation_split=0.2\n",
        ")\n",
        "\n",
        "model2.evaluate(\n",
        "  test_images,\n",
        "  to_categorical(test_labels)\n",
        ")\n",
        "\n",
        "predictions = model2.predict(test_images[:5])\n",
        "\n",
        "print(np.argmax(predictions, axis=1)) \n",
        "\n",
        "print(test_labels[:5]) "
      ],
      "metadata": {
        "colab": {
          "base_uri": "https://localhost:8080/"
        },
        "id": "4QTrjrhe7CJQ",
        "outputId": "dd8a6427-25cf-419e-d672-bf501d9ac411"
      },
      "execution_count": null,
      "outputs": [
        {
          "output_type": "stream",
          "name": "stdout",
          "text": [
            "Epoch 1/5\n",
            "1500/1500 [==============================] - 6s 4ms/step - loss: 0.5238 - accuracy: 0.8138 - val_loss: 0.4336 - val_accuracy: 0.8416\n",
            "Epoch 2/5\n",
            "1500/1500 [==============================] - 5s 3ms/step - loss: 0.3980 - accuracy: 0.8569 - val_loss: 0.3908 - val_accuracy: 0.8596\n",
            "Epoch 3/5\n",
            "1500/1500 [==============================] - 5s 3ms/step - loss: 0.3625 - accuracy: 0.8683 - val_loss: 0.3733 - val_accuracy: 0.8649\n",
            "Epoch 4/5\n",
            "1500/1500 [==============================] - 5s 3ms/step - loss: 0.3367 - accuracy: 0.8770 - val_loss: 0.3626 - val_accuracy: 0.8699\n",
            "Epoch 5/5\n",
            "1500/1500 [==============================] - 5s 3ms/step - loss: 0.3183 - accuracy: 0.8836 - val_loss: 0.3480 - val_accuracy: 0.8739\n",
            "313/313 [==============================] - 1s 2ms/step - loss: 0.3744 - accuracy: 0.8661\n",
            "1/1 [==============================] - 0s 53ms/step\n",
            "[9 2 1 1 6]\n",
            "[9 2 1 1 6]\n"
          ]
        }
      ]
    },
    {
      "cell_type": "code",
      "source": [
        "layers1 = [\n",
        "        Dense(64, activation='relu', input_shape=(784,)),\n",
        "        Dense(64, activation='tanh'),\n",
        "        Dense(10, activation='softmax'),\n",
        "                      ]\n",
        "layers2 = [\n",
        "        Dense(64, activation='relu', input_shape=(784,)),\n",
        "        Dense(64, activation='tanh'),\n",
        "        Dense(64, activation='tanh'),\n",
        "        Dense(64, activation='tanh'),\n",
        "        Dense(10, activation='softmax'),\n",
        "                      ]\n",
        "layers3 = [\n",
        "        Dense(64, activation='relu', input_shape=(784,)),\n",
        "        Dense(64, activation='tanh'),\n",
        "        Dense(64, activation='tanh'),\n",
        "        Dense(64, activation='tanh'),\n",
        "        Dense(64, activation='tanh'),\n",
        "        Dense(64, activation='tanh'),\n",
        "        Dense(64, activation='tanh'),\n",
        "        Dense(64, activation='tanh'),\n",
        "        Dense(64, activation='tanh'),\n",
        "        Dense(10, activation='softmax'),\n",
        "                      ]"
      ],
      "metadata": {
        "id": "8SwyvFga7CLV"
      },
      "execution_count": null,
      "outputs": []
    },
    {
      "cell_type": "code",
      "source": [
        "model3 = Sequential(layers1)\n",
        "model3.compile(\n",
        "  optimizer='adam',\n",
        "  loss='categorical_crossentropy',\n",
        "  metrics=['accuracy'],\n",
        ")"
      ],
      "metadata": {
        "id": "hAro_jMS8WcB"
      },
      "execution_count": null,
      "outputs": []
    },
    {
      "cell_type": "code",
      "source": [
        "model3.summary()"
      ],
      "metadata": {
        "colab": {
          "base_uri": "https://localhost:8080/"
        },
        "id": "gKNZPc7V8Wi_",
        "outputId": "31bdef35-756f-46ad-c644-35e03e823d63"
      },
      "execution_count": null,
      "outputs": [
        {
          "output_type": "stream",
          "name": "stdout",
          "text": [
            "Model: \"sequential\"\n",
            "_________________________________________________________________\n",
            " Layer (type)                Output Shape              Param #   \n",
            "=================================================================\n",
            " dense_4 (Dense)             (None, 64)                50240     \n",
            "                                                                 \n",
            " dense_5 (Dense)             (None, 64)                4160      \n",
            "                                                                 \n",
            " dense_6 (Dense)             (None, 10)                650       \n",
            "                                                                 \n",
            "=================================================================\n",
            "Total params: 55,050\n",
            "Trainable params: 55,050\n",
            "Non-trainable params: 0\n",
            "_________________________________________________________________\n"
          ]
        }
      ]
    },
    {
      "cell_type": "code",
      "source": [
        "model4 = Sequential(layers2)\n",
        "model4.compile(\n",
        "  optimizer='adam',\n",
        "  loss='categorical_crossentropy',\n",
        "  metrics=['accuracy'],\n",
        ")"
      ],
      "metadata": {
        "id": "CC1uPKMz8Wll"
      },
      "execution_count": null,
      "outputs": []
    },
    {
      "cell_type": "code",
      "source": [
        "model5 = Sequential(layers3)\n",
        "model5.compile(\n",
        "  optimizer='adam',\n",
        "  loss='categorical_crossentropy',\n",
        "  metrics=['accuracy'],\n",
        ")"
      ],
      "metadata": {
        "id": "rAgQ6Gbz8Wn6"
      },
      "execution_count": null,
      "outputs": []
    },
    {
      "cell_type": "code",
      "source": [
        "model5.summary()"
      ],
      "metadata": {
        "colab": {
          "base_uri": "https://localhost:8080/"
        },
        "id": "Y65HKXer8WqF",
        "outputId": "12b9b037-b806-4f6e-8330-9ac2b564f4ec"
      },
      "execution_count": null,
      "outputs": [
        {
          "output_type": "stream",
          "name": "stdout",
          "text": [
            "Model: \"sequential_2\"\n",
            "_________________________________________________________________\n",
            " Layer (type)                Output Shape              Param #   \n",
            "=================================================================\n",
            " dense_12 (Dense)            (None, 64)                50240     \n",
            "                                                                 \n",
            " dense_13 (Dense)            (None, 64)                4160      \n",
            "                                                                 \n",
            " dense_14 (Dense)            (None, 64)                4160      \n",
            "                                                                 \n",
            " dense_15 (Dense)            (None, 64)                4160      \n",
            "                                                                 \n",
            " dense_16 (Dense)            (None, 64)                4160      \n",
            "                                                                 \n",
            " dense_17 (Dense)            (None, 64)                4160      \n",
            "                                                                 \n",
            " dense_18 (Dense)            (None, 64)                4160      \n",
            "                                                                 \n",
            " dense_19 (Dense)            (None, 64)                4160      \n",
            "                                                                 \n",
            " dense_20 (Dense)            (None, 64)                4160      \n",
            "                                                                 \n",
            " dense_21 (Dense)            (None, 10)                650       \n",
            "                                                                 \n",
            "=================================================================\n",
            "Total params: 84,170\n",
            "Trainable params: 84,170\n",
            "Non-trainable params: 0\n",
            "_________________________________________________________________\n"
          ]
        }
      ]
    },
    {
      "cell_type": "code",
      "source": [
        "def hhl(models):\n",
        "    hh = models.fit(\n",
        "      train_images,\n",
        "      to_categorical(train_labels),\n",
        "      epochs=25,\n",
        "      batch_size=32, validation_split=0.2\n",
        "    )\n",
        "\n",
        "    models.evaluate(\n",
        "      test_images,\n",
        "      to_categorical(test_labels)\n",
        "    )\n",
        "\n",
        "    predictions = models.predict(test_images[:5])\n",
        "\n",
        "    print(np.argmax(predictions, axis=1)) \n",
        "\n",
        "    print(test_labels[:5])\n",
        "    \n",
        "    return hh"
      ],
      "metadata": {
        "id": "TXgsmEbl8Wr1"
      },
      "execution_count": null,
      "outputs": []
    },
    {
      "cell_type": "code",
      "source": [
        "hh_1 = hhl(model3)"
      ],
      "metadata": {
        "colab": {
          "base_uri": "https://localhost:8080/"
        },
        "id": "KnDhd0oL8Wt6",
        "outputId": "b90fc277-221c-4a23-ddf7-d9e58c2ea8a9"
      },
      "execution_count": null,
      "outputs": [
        {
          "output_type": "stream",
          "name": "stdout",
          "text": [
            "Epoch 1/25\n",
            "1500/1500 [==============================] - 6s 4ms/step - loss: 0.5123 - accuracy: 0.8170 - val_loss: 0.4178 - val_accuracy: 0.8503\n",
            "Epoch 2/25\n",
            "1500/1500 [==============================] - 5s 4ms/step - loss: 0.3858 - accuracy: 0.8590 - val_loss: 0.3698 - val_accuracy: 0.8654\n",
            "Epoch 3/25\n",
            "1500/1500 [==============================] - 5s 4ms/step - loss: 0.3486 - accuracy: 0.8706 - val_loss: 0.3691 - val_accuracy: 0.8661\n",
            "Epoch 4/25\n",
            "1500/1500 [==============================] - 7s 5ms/step - loss: 0.3268 - accuracy: 0.8801 - val_loss: 0.3665 - val_accuracy: 0.8650\n",
            "Epoch 5/25\n",
            "1500/1500 [==============================] - 5s 4ms/step - loss: 0.3097 - accuracy: 0.8864 - val_loss: 0.3393 - val_accuracy: 0.8737\n",
            "Epoch 6/25\n",
            "1500/1500 [==============================] - 6s 4ms/step - loss: 0.2930 - accuracy: 0.8918 - val_loss: 0.3538 - val_accuracy: 0.8709\n",
            "Epoch 7/25\n",
            "1500/1500 [==============================] - 6s 4ms/step - loss: 0.2804 - accuracy: 0.8979 - val_loss: 0.3494 - val_accuracy: 0.8723\n",
            "Epoch 8/25\n",
            "1500/1500 [==============================] - 6s 4ms/step - loss: 0.2697 - accuracy: 0.9004 - val_loss: 0.3348 - val_accuracy: 0.8781\n",
            "Epoch 9/25\n",
            "1500/1500 [==============================] - 6s 4ms/step - loss: 0.2592 - accuracy: 0.9039 - val_loss: 0.3348 - val_accuracy: 0.8785\n",
            "Epoch 10/25\n",
            "1500/1500 [==============================] - 6s 4ms/step - loss: 0.2518 - accuracy: 0.9054 - val_loss: 0.3252 - val_accuracy: 0.8841\n",
            "Epoch 11/25\n",
            "1500/1500 [==============================] - 6s 4ms/step - loss: 0.2408 - accuracy: 0.9103 - val_loss: 0.3398 - val_accuracy: 0.8795\n",
            "Epoch 12/25\n",
            "1500/1500 [==============================] - 6s 4ms/step - loss: 0.2356 - accuracy: 0.9128 - val_loss: 0.3240 - val_accuracy: 0.8832\n",
            "Epoch 13/25\n",
            "1500/1500 [==============================] - 6s 4ms/step - loss: 0.2287 - accuracy: 0.9159 - val_loss: 0.3193 - val_accuracy: 0.8878\n",
            "Epoch 14/25\n",
            "1500/1500 [==============================] - 5s 4ms/step - loss: 0.2193 - accuracy: 0.9188 - val_loss: 0.3332 - val_accuracy: 0.8852\n",
            "Epoch 15/25\n",
            "1500/1500 [==============================] - 5s 4ms/step - loss: 0.2146 - accuracy: 0.9201 - val_loss: 0.3323 - val_accuracy: 0.8826\n",
            "Epoch 16/25\n",
            "1500/1500 [==============================] - 7s 4ms/step - loss: 0.2085 - accuracy: 0.9224 - val_loss: 0.3392 - val_accuracy: 0.8805\n",
            "Epoch 17/25\n",
            "1500/1500 [==============================] - 6s 4ms/step - loss: 0.2029 - accuracy: 0.9261 - val_loss: 0.3444 - val_accuracy: 0.8805\n",
            "Epoch 18/25\n",
            "1500/1500 [==============================] - 6s 4ms/step - loss: 0.1953 - accuracy: 0.9269 - val_loss: 0.3388 - val_accuracy: 0.8860\n",
            "Epoch 19/25\n",
            "1500/1500 [==============================] - 6s 4ms/step - loss: 0.1925 - accuracy: 0.9290 - val_loss: 0.3650 - val_accuracy: 0.8746\n",
            "Epoch 20/25\n",
            "1500/1500 [==============================] - 6s 4ms/step - loss: 0.1890 - accuracy: 0.9310 - val_loss: 0.3634 - val_accuracy: 0.8789\n",
            "Epoch 21/25\n",
            "1500/1500 [==============================] - 6s 4ms/step - loss: 0.1834 - accuracy: 0.9319 - val_loss: 0.3581 - val_accuracy: 0.8801\n",
            "Epoch 22/25\n",
            "1500/1500 [==============================] - 6s 4ms/step - loss: 0.1789 - accuracy: 0.9338 - val_loss: 0.3486 - val_accuracy: 0.8825\n",
            "Epoch 23/25\n",
            "1500/1500 [==============================] - 6s 4ms/step - loss: 0.1724 - accuracy: 0.9366 - val_loss: 0.3603 - val_accuracy: 0.8832\n",
            "Epoch 24/25\n",
            "1500/1500 [==============================] - 6s 4ms/step - loss: 0.1707 - accuracy: 0.9374 - val_loss: 0.3477 - val_accuracy: 0.8857\n",
            "Epoch 25/25\n",
            "1500/1500 [==============================] - 6s 4ms/step - loss: 0.1674 - accuracy: 0.9389 - val_loss: 0.3539 - val_accuracy: 0.8838\n",
            "313/313 [==============================] - 1s 2ms/step - loss: 0.3803 - accuracy: 0.8767\n",
            "1/1 [==============================] - 0s 61ms/step\n",
            "[9 2 1 1 6]\n",
            "[9 2 1 1 6]\n"
          ]
        }
      ]
    },
    {
      "cell_type": "code",
      "source": [
        "hh_2 = hhl(model4)"
      ],
      "metadata": {
        "colab": {
          "base_uri": "https://localhost:8080/"
        },
        "id": "ryWVqj8b8Wvu",
        "outputId": "24b08b35-6461-40fd-847c-2214ecf5724e"
      },
      "execution_count": null,
      "outputs": [
        {
          "output_type": "stream",
          "name": "stdout",
          "text": [
            "Epoch 1/25\n",
            "1500/1500 [==============================] - 8s 5ms/step - loss: 0.5138 - accuracy: 0.8155 - val_loss: 0.4244 - val_accuracy: 0.8518\n",
            "Epoch 2/25\n",
            "1500/1500 [==============================] - 7s 5ms/step - loss: 0.3941 - accuracy: 0.8556 - val_loss: 0.3945 - val_accuracy: 0.8583\n",
            "Epoch 3/25\n",
            "1500/1500 [==============================] - 7s 5ms/step - loss: 0.3555 - accuracy: 0.8692 - val_loss: 0.3653 - val_accuracy: 0.8708\n",
            "Epoch 4/25\n",
            "1500/1500 [==============================] - 7s 5ms/step - loss: 0.3335 - accuracy: 0.8773 - val_loss: 0.3713 - val_accuracy: 0.8670\n",
            "Epoch 5/25\n",
            "1500/1500 [==============================] - 7s 5ms/step - loss: 0.3183 - accuracy: 0.8839 - val_loss: 0.3466 - val_accuracy: 0.8728\n",
            "Epoch 6/25\n",
            "1500/1500 [==============================] - 7s 5ms/step - loss: 0.3002 - accuracy: 0.8885 - val_loss: 0.3354 - val_accuracy: 0.8746\n",
            "Epoch 7/25\n",
            "1500/1500 [==============================] - 7s 4ms/step - loss: 0.2898 - accuracy: 0.8927 - val_loss: 0.3412 - val_accuracy: 0.8767\n",
            "Epoch 8/25\n",
            "1500/1500 [==============================] - 7s 5ms/step - loss: 0.2816 - accuracy: 0.8967 - val_loss: 0.3490 - val_accuracy: 0.8752\n",
            "Epoch 9/25\n",
            "1500/1500 [==============================] - 7s 5ms/step - loss: 0.2682 - accuracy: 0.9014 - val_loss: 0.3322 - val_accuracy: 0.8823\n",
            "Epoch 10/25\n",
            "1500/1500 [==============================] - 7s 5ms/step - loss: 0.2617 - accuracy: 0.9027 - val_loss: 0.3279 - val_accuracy: 0.8796\n",
            "Epoch 11/25\n",
            "1500/1500 [==============================] - 7s 5ms/step - loss: 0.2511 - accuracy: 0.9075 - val_loss: 0.3404 - val_accuracy: 0.8808\n",
            "Epoch 12/25\n",
            "1500/1500 [==============================] - 7s 5ms/step - loss: 0.2454 - accuracy: 0.9104 - val_loss: 0.3297 - val_accuracy: 0.8858\n",
            "Epoch 13/25\n",
            "1500/1500 [==============================] - 6s 4ms/step - loss: 0.2386 - accuracy: 0.9126 - val_loss: 0.3358 - val_accuracy: 0.8809\n",
            "Epoch 14/25\n",
            "1500/1500 [==============================] - 6s 4ms/step - loss: 0.2327 - accuracy: 0.9143 - val_loss: 0.3467 - val_accuracy: 0.8803\n",
            "Epoch 15/25\n",
            "1500/1500 [==============================] - 7s 5ms/step - loss: 0.2274 - accuracy: 0.9160 - val_loss: 0.3300 - val_accuracy: 0.8848\n",
            "Epoch 16/25\n",
            "1500/1500 [==============================] - 6s 4ms/step - loss: 0.2203 - accuracy: 0.9174 - val_loss: 0.3426 - val_accuracy: 0.8808\n",
            "Epoch 17/25\n",
            "1500/1500 [==============================] - 7s 5ms/step - loss: 0.2157 - accuracy: 0.9197 - val_loss: 0.3694 - val_accuracy: 0.8785\n",
            "Epoch 18/25\n",
            "1500/1500 [==============================] - 7s 5ms/step - loss: 0.2102 - accuracy: 0.9220 - val_loss: 0.3482 - val_accuracy: 0.8792\n",
            "Epoch 19/25\n",
            "1500/1500 [==============================] - 7s 5ms/step - loss: 0.2038 - accuracy: 0.9225 - val_loss: 0.3330 - val_accuracy: 0.8863\n",
            "Epoch 20/25\n",
            "1500/1500 [==============================] - 7s 5ms/step - loss: 0.1966 - accuracy: 0.9260 - val_loss: 0.3915 - val_accuracy: 0.8709\n",
            "Epoch 21/25\n",
            "1500/1500 [==============================] - 7s 5ms/step - loss: 0.1948 - accuracy: 0.9268 - val_loss: 0.3702 - val_accuracy: 0.8761\n",
            "Epoch 22/25\n",
            "1500/1500 [==============================] - 7s 5ms/step - loss: 0.1889 - accuracy: 0.9294 - val_loss: 0.3555 - val_accuracy: 0.8816\n",
            "Epoch 23/25\n",
            "1500/1500 [==============================] - 7s 5ms/step - loss: 0.1861 - accuracy: 0.9314 - val_loss: 0.3663 - val_accuracy: 0.8823\n",
            "Epoch 24/25\n",
            "1500/1500 [==============================] - 6s 4ms/step - loss: 0.1798 - accuracy: 0.9331 - val_loss: 0.3720 - val_accuracy: 0.8821\n",
            "Epoch 25/25\n",
            "1500/1500 [==============================] - 7s 5ms/step - loss: 0.1765 - accuracy: 0.9342 - val_loss: 0.3837 - val_accuracy: 0.8770\n",
            "313/313 [==============================] - 1s 2ms/step - loss: 0.4091 - accuracy: 0.8680\n",
            "1/1 [==============================] - 0s 75ms/step\n",
            "[9 2 1 1 6]\n",
            "[9 2 1 1 6]\n"
          ]
        }
      ]
    },
    {
      "cell_type": "code",
      "source": [
        "hh_3 = hhl(model5)"
      ],
      "metadata": {
        "colab": {
          "base_uri": "https://localhost:8080/"
        },
        "id": "x4hS4AEk8Wxk",
        "outputId": "ca11a4ab-a48b-49e1-f5cc-41ec50882568"
      },
      "execution_count": null,
      "outputs": [
        {
          "output_type": "stream",
          "name": "stdout",
          "text": [
            "Epoch 1/25\n",
            "1500/1500 [==============================] - 9s 5ms/step - loss: 0.5623 - accuracy: 0.7997 - val_loss: 0.4772 - val_accuracy: 0.8310\n",
            "Epoch 2/25\n",
            "1500/1500 [==============================] - 8s 5ms/step - loss: 0.4321 - accuracy: 0.8459 - val_loss: 0.3992 - val_accuracy: 0.8608\n",
            "Epoch 3/25\n",
            "1500/1500 [==============================] - 8s 5ms/step - loss: 0.3938 - accuracy: 0.8557 - val_loss: 0.4004 - val_accuracy: 0.8542\n",
            "Epoch 4/25\n",
            "1500/1500 [==============================] - 8s 6ms/step - loss: 0.3680 - accuracy: 0.8671 - val_loss: 0.4103 - val_accuracy: 0.8510\n",
            "Epoch 5/25\n",
            "1500/1500 [==============================] - 8s 5ms/step - loss: 0.3482 - accuracy: 0.8733 - val_loss: 0.3730 - val_accuracy: 0.8692\n",
            "Epoch 6/25\n",
            "1500/1500 [==============================] - 8s 5ms/step - loss: 0.3424 - accuracy: 0.8754 - val_loss: 0.3677 - val_accuracy: 0.8677\n",
            "Epoch 7/25\n",
            "1500/1500 [==============================] - 10s 7ms/step - loss: 0.3232 - accuracy: 0.8813 - val_loss: 0.3907 - val_accuracy: 0.8615\n",
            "Epoch 8/25\n",
            "1500/1500 [==============================] - 8s 5ms/step - loss: 0.3178 - accuracy: 0.8844 - val_loss: 0.4006 - val_accuracy: 0.8646\n",
            "Epoch 9/25\n",
            "1500/1500 [==============================] - 8s 5ms/step - loss: 0.3095 - accuracy: 0.8865 - val_loss: 0.3690 - val_accuracy: 0.8707\n",
            "Epoch 10/25\n",
            "1500/1500 [==============================] - 8s 5ms/step - loss: 0.2997 - accuracy: 0.8906 - val_loss: 0.3672 - val_accuracy: 0.8729\n",
            "Epoch 11/25\n",
            "1500/1500 [==============================] - 8s 5ms/step - loss: 0.2950 - accuracy: 0.8925 - val_loss: 0.3731 - val_accuracy: 0.8683\n",
            "Epoch 12/25\n",
            "1500/1500 [==============================] - 8s 5ms/step - loss: 0.2902 - accuracy: 0.8947 - val_loss: 0.3647 - val_accuracy: 0.8749\n",
            "Epoch 13/25\n",
            "1500/1500 [==============================] - 8s 5ms/step - loss: 0.2809 - accuracy: 0.8956 - val_loss: 0.3560 - val_accuracy: 0.8767\n",
            "Epoch 14/25\n",
            "1500/1500 [==============================] - 8s 6ms/step - loss: 0.2757 - accuracy: 0.8991 - val_loss: 0.3677 - val_accuracy: 0.8702\n",
            "Epoch 15/25\n",
            "1500/1500 [==============================] - 8s 5ms/step - loss: 0.2698 - accuracy: 0.9022 - val_loss: 0.3687 - val_accuracy: 0.8719\n",
            "Epoch 16/25\n",
            "1500/1500 [==============================] - 11s 7ms/step - loss: 0.2681 - accuracy: 0.9026 - val_loss: 0.3502 - val_accuracy: 0.8801\n",
            "Epoch 17/25\n",
            "1500/1500 [==============================] - 12s 8ms/step - loss: 0.2621 - accuracy: 0.9040 - val_loss: 0.3677 - val_accuracy: 0.8691\n",
            "Epoch 18/25\n",
            "1500/1500 [==============================] - 8s 6ms/step - loss: 0.2587 - accuracy: 0.9047 - val_loss: 0.3513 - val_accuracy: 0.8803\n",
            "Epoch 19/25\n",
            "1500/1500 [==============================] - 9s 6ms/step - loss: 0.2555 - accuracy: 0.9058 - val_loss: 0.3457 - val_accuracy: 0.8837\n",
            "Epoch 20/25\n",
            "1500/1500 [==============================] - 9s 6ms/step - loss: 0.2501 - accuracy: 0.9094 - val_loss: 0.3920 - val_accuracy: 0.8714\n",
            "Epoch 21/25\n",
            "1500/1500 [==============================] - 8s 6ms/step - loss: 0.2487 - accuracy: 0.9087 - val_loss: 0.3666 - val_accuracy: 0.8788\n",
            "Epoch 22/25\n",
            "1500/1500 [==============================] - 9s 6ms/step - loss: 0.2434 - accuracy: 0.9112 - val_loss: 0.3633 - val_accuracy: 0.8783\n",
            "Epoch 23/25\n",
            "1500/1500 [==============================] - 11s 7ms/step - loss: 0.2428 - accuracy: 0.9102 - val_loss: 0.3842 - val_accuracy: 0.8752\n",
            "Epoch 24/25\n",
            "1500/1500 [==============================] - 9s 6ms/step - loss: 0.2370 - accuracy: 0.9128 - val_loss: 0.3971 - val_accuracy: 0.8702\n",
            "Epoch 25/25\n",
            "1500/1500 [==============================] - 8s 5ms/step - loss: 0.2412 - accuracy: 0.9112 - val_loss: 0.3639 - val_accuracy: 0.8790\n",
            "313/313 [==============================] - 1s 3ms/step - loss: 0.3791 - accuracy: 0.8738\n"
          ]
        },
        {
          "output_type": "stream",
          "name": "stderr",
          "text": [
            "WARNING:tensorflow:5 out of the last 5 calls to <function Model.make_predict_function.<locals>.predict_function at 0x7f4a85b33440> triggered tf.function retracing. Tracing is expensive and the excessive number of tracings could be due to (1) creating @tf.function repeatedly in a loop, (2) passing tensors with different shapes, (3) passing Python objects instead of tensors. For (1), please define your @tf.function outside of the loop. For (2), @tf.function has reduce_retracing=True option that can avoid unnecessary retracing. For (3), please refer to https://www.tensorflow.org/guide/function#controlling_retracing and https://www.tensorflow.org/api_docs/python/tf/function for  more details.\n"
          ]
        },
        {
          "output_type": "stream",
          "name": "stdout",
          "text": [
            "1/1 [==============================] - 0s 126ms/step\n",
            "[9 2 1 1 6]\n",
            "[9 2 1 1 6]\n"
          ]
        }
      ]
    },
    {
      "cell_type": "code",
      "source": [
        "# создаем модель model\n",
        "model = Sequential([\n",
        "                      Dense(64, activation='relu', input_shape=(784,)),\n",
        "                      Dense(64, activation='tanh'),\n",
        "                      Dense(10, activation='softmax'),\n",
        "                      ])\n",
        "# сохраняем ее веса (это начальная точка) model.save_weights('model.h5')\n",
        "model.save_weights('model.h5')\n",
        "\n",
        "plt.figure(figsize=(16,7))\n",
        "\n",
        "# число рабочих эпох\n",
        "epochs = 15\n",
        "# вектор для выводв результатов\n",
        "epoch = np.arange(epochs+1)\n",
        "\n",
        "# будем изменять оптимизаторы\n",
        "for i_optim in [keras.optimizers.RMSprop(),keras.optimizers.SGD(),keras.optimizers.Adam(),keras.optimizers.Nadam()]:\n",
        "  # создаем рабочую модель modeli куда будем загружать эти вес (она должна быть идентичной структуры)\n",
        "  modeli = Sequential([\n",
        "                      Dense(64, activation='relu', input_shape=(784,)),\n",
        "                      Dense(64, activation='tanh'),\n",
        "                      Dense(10, activation='softmax'),\n",
        "                      ])\n",
        "  # загружаем веса modeli.load_weights('model.h5')\n",
        "  modeli.load_weights('model.h5')\n",
        "  # компилируем modeli с одним из оптимизаторов\n",
        "  modeli.compile(\n",
        "      optimizer=i_optim,\n",
        "      loss='categorical_crossentropy',\n",
        "      metrics=['accuracy'],\n",
        "      )\n",
        "  # вычисляем ошибку для modeli без обучения\n",
        "  hh0_tr = modeli.evaluate(  train_images[:48000,:], to_categorical(train_labels[:48000]),verbose = 0)\n",
        "  hh0_val = modeli.evaluate(  train_images[48000:,:], to_categorical(train_labels[48000:]),verbose = 0)\n",
        "  # проводим обучение модели \n",
        "  hh = modeli.fit(\n",
        "  train_images,\n",
        "  to_categorical(train_labels),\n",
        "  epochs=epochs,\n",
        "  batch_size=32, validation_split=0.2, verbose = 0\n",
        "  )\n",
        "  # картинки\n",
        "  plt.plot(epoch,np.log([hh0_tr[0]]+hh.history['loss']),'-',label = modeli.optimizer.get_config()['name']+' train')\n",
        "  plt.plot(epoch,np.log([hh0_val[0]]+hh.history['val_loss']),'--',label = modeli.optimizer.get_config()['name']+' val')\n",
        "plt.legend()\n",
        "plt.grid('On')\n",
        "\n",
        "plt.title('нейросети от оптимизатора log(loss)')\n",
        "plt.xlabel('epoch')\n",
        "plt.ylabel('log(loss)')\n",
        "plt.show()"
      ],
      "metadata": {
        "colab": {
          "base_uri": "https://localhost:8080/",
          "height": 458
        },
        "id": "RJk1g9Cm8Wzp",
        "outputId": "980782b4-a77a-4507-8953-e9d2555c5565"
      },
      "execution_count": null,
      "outputs": [
        {
          "output_type": "display_data",
          "data": {
            "text/plain": [
              "<Figure size 1152x504 with 1 Axes>"
            ],
            "image/png": "[encoded data removed]"
          },
          "metadata": {
            "needs_background": "light"
          }
        }
      ]
    },
    {
      "cell_type": "markdown",
      "source": [
        "Лучшим вариантом является SGD, так как наименьший разрыв между accuracy и val_accuracy."
      ],
      "metadata": {
        "id": "i-h36HCd--ht"
      }
    },
    {
      "cell_type": "code",
      "source": [
        "hh_t = {}\n",
        "hh_a = []\n",
        "hh_v = []\n",
        "hh_list = [hh, hh2, hh_1, hh_2, hh_3]\n",
        "for i in hh_list:\n",
        "    hh_a.append(i.history['accuracy'][-1])\n",
        "    hh_v.append(i.history['val_accuracy'][-1])\n",
        "    \n",
        "    \n",
        "hh_t['accuracy'] = hh_a\n",
        "hh_t['val_accuracy'] = hh_v"
      ],
      "metadata": {
        "id": "4hS9rH9_8W1e"
      },
      "execution_count": null,
      "outputs": []
    },
    {
      "cell_type": "code",
      "source": [
        "hh_d = {'layers':[], 'neurons': [], 'accuracy': [], 'val_accuracy': []}\n",
        "l = [2, 2, 3, 5, 10]\n",
        "n = [128, 64, 64, 64, 64]"
      ],
      "metadata": {
        "id": "vxn9O2dO8W3S"
      },
      "execution_count": null,
      "outputs": []
    },
    {
      "cell_type": "code",
      "source": [
        "for i in range(5):\n",
        "    hh_d['layers'].append(l[i])\n",
        "    hh_d['neurons'].append(n[i])\n",
        "    hh_d['accuracy'].append(hh_list[i].history['accuracy'][-1])\n",
        "    hh_d['val_accuracy'].append(hh_list[i].history['val_accuracy'][-1])"
      ],
      "metadata": {
        "id": "Q8OVhXfg7CNK"
      },
      "execution_count": null,
      "outputs": []
    },
    {
      "cell_type": "code",
      "source": [
        "df = pd.DataFrame(hh_d)\n",
        "df"
      ],
      "metadata": {
        "colab": {
          "base_uri": "https://localhost:8080/",
          "height": 206
        },
        "id": "tAB5fWHu7CSY",
        "outputId": "677e344a-3940-4e47-d746-f12afe6369e4"
      },
      "execution_count": null,
      "outputs": [
        {
          "output_type": "execute_result",
          "data": {
            "text/plain": [
              "   layers  neurons  accuracy  val_accuracy\n",
              "0       2      128  0.922042      0.884750\n",
              "1       2       64  0.883625      0.873917\n",
              "2       3       64  0.938896      0.883833\n",
              "3       5       64  0.934250      0.877000\n",
              "4      10       64  0.911188      0.879000"
            ],
            "text/html": [
              "\n",
              "  <div id=\"df-cc0f2e07-9070-4836-bd3f-9f38cac60f7a\">\n",
              "    <div class=\"colab-df-container\">\n",
              "      <div>\n",
              "<style scoped>\n",
              "    .dataframe tbody tr th:only-of-type {\n",
              "        vertical-align: middle;\n",
              "    }\n",
              "\n",
              "    .dataframe tbody tr th {\n",
              "        vertical-align: top;\n",
              "    }\n",
              "\n",
              "    .dataframe thead th {\n",
              "        text-align: right;\n",
              "    }\n",
              "</style>\n",
              "<table border=\"1\" class=\"dataframe\">\n",
              "  <thead>\n",
              "    <tr style=\"text-align: right;\">\n",
              "      <th></th>\n",
              "      <th>layers</th>\n",
              "      <th>neurons</th>\n",
              "      <th>accuracy</th>\n",
              "      <th>val_accuracy</th>\n",
              "    </tr>\n",
              "  </thead>\n",
              "  <tbody>\n",
              "    <tr>\n",
              "      <th>0</th>\n",
              "      <td>2</td>\n",
              "      <td>128</td>\n",
              "      <td>0.922042</td>\n",
              "      <td>0.884750</td>\n",
              "    </tr>\n",
              "    <tr>\n",
              "      <th>1</th>\n",
              "      <td>2</td>\n",
              "      <td>64</td>\n",
              "      <td>0.883625</td>\n",
              "      <td>0.873917</td>\n",
              "    </tr>\n",
              "    <tr>\n",
              "      <th>2</th>\n",
              "      <td>3</td>\n",
              "      <td>64</td>\n",
              "      <td>0.938896</td>\n",
              "      <td>0.883833</td>\n",
              "    </tr>\n",
              "    <tr>\n",
              "      <th>3</th>\n",
              "      <td>5</td>\n",
              "      <td>64</td>\n",
              "      <td>0.934250</td>\n",
              "      <td>0.877000</td>\n",
              "    </tr>\n",
              "    <tr>\n",
              "      <th>4</th>\n",
              "      <td>10</td>\n",
              "      <td>64</td>\n",
              "      <td>0.911188</td>\n",
              "      <td>0.879000</td>\n",
              "    </tr>\n",
              "  </tbody>\n",
              "</table>\n",
              "</div>\n",
              "      <button class=\"colab-df-convert\" onclick=\"convertToInteractive('df-cc0f2e07-9070-4836-bd3f-9f38cac60f7a')\"\n",
              "              title=\"Convert this dataframe to an interactive table.\"\n",
              "              style=\"display:none;\">\n",
              "        \n",
              "  <svg xmlns=\"http://www.w3.org/2000/svg\" height=\"24px\"viewBox=\"0 0 24 24\"\n",
              "       width=\"24px\">\n",
              "    <path d=\"M0 0h24v24H0V0z\" fill=\"none\"/>\n",
              "    <path d=\"M18.56 5.44l.94 2.06.94-2.06 2.06-.94-2.06-.94-.94-2.06-.94 2.06-2.06.94zm-11 1L8.5 8.5l.94-2.06 2.06-.94-2.06-.94L8.5 2.5l-.94 2.06-2.06.94zm10 10l.94 2.06.94-2.06 2.06-.94-2.06-.94-.94-2.06-.94 2.06-2.06.94z\"/><path d=\"M17.41 7.96l-1.37-1.37c-.4-.4-.92-.59-1.43-.59-.52 0-1.04.2-1.43.59L10.3 9.45l-7.72 7.72c-.78.78-.78 2.05 0 2.83L4 21.41c.39.39.9.59 1.41.59.51 0 1.02-.2 1.41-.59l7.78-7.78 2.81-2.81c.8-.78.8-2.07 0-2.86zM5.41 20L4 18.59l7.72-7.72 1.47 1.35L5.41 20z\"/>\n",
              "  </svg>\n",
              "      </button>\n",
              "      \n",
              "  <style>\n",
              "    .colab-df-container {\n",
              "      display:flex;\n",
              "      flex-wrap:wrap;\n",
              "      gap: 12px;\n",
              "    }\n",
              "\n",
              "    .colab-df-convert {\n",
              "      background-color: #E8F0FE;\n",
              "      border: none;\n",
              "      border-radius: 50%;\n",
              "      cursor: pointer;\n",
              "      display: none;\n",
              "      fill: #1967D2;\n",
              "      height: 32px;\n",
              "      padding: 0 0 0 0;\n",
              "      width: 32px;\n",
              "    }\n",
              "\n",
              "    .colab-df-convert:hover {\n",
              "      background-color: #E2EBFA;\n",
              "      box-shadow: 0px 1px 2px rgba(60, 64, 67, 0.3), 0px 1px 3px 1px rgba(60, 64, 67, 0.15);\n",
              "      fill: #174EA6;\n",
              "    }\n",
              "\n",
              "    [theme=dark] .colab-df-convert {\n",
              "      background-color: #3B4455;\n",
              "      fill: #D2E3FC;\n",
              "    }\n",
              "\n",
              "    [theme=dark] .colab-df-convert:hover {\n",
              "      background-color: #434B5C;\n",
              "      box-shadow: 0px 1px 3px 1px rgba(0, 0, 0, 0.15);\n",
              "      filter: drop-shadow(0px 1px 2px rgba(0, 0, 0, 0.3));\n",
              "      fill: #FFFFFF;\n",
              "    }\n",
              "  </style>\n",
              "\n",
              "      <script>\n",
              "        const buttonEl =\n",
              "          document.querySelector('#df-cc0f2e07-9070-4836-bd3f-9f38cac60f7a button.colab-df-convert');\n",
              "        buttonEl.style.display =\n",
              "          google.colab.kernel.accessAllowed ? 'block' : 'none';\n",
              "\n",
              "        async function convertToInteractive(key) {\n",
              "          const element = document.querySelector('#df-cc0f2e07-9070-4836-bd3f-9f38cac60f7a');\n",
              "          const dataTable =\n",
              "            await google.colab.kernel.invokeFunction('convertToInteractive',\n",
              "                                                     [key], {});\n",
              "          if (!dataTable) return;\n",
              "\n",
              "          const docLinkHtml = 'Like what you see? Visit the ' +\n",
              "            '<a target=\"_blank\" href=https://colab.research.google.com/notebooks/data_table.ipynb>data table notebook</a>'\n",
              "            + ' to learn more about interactive tables.';\n",
              "          element.innerHTML = '';\n",
              "          dataTable['output_type'] = 'display_data';\n",
              "          await google.colab.output.renderOutput(dataTable, element);\n",
              "          const docLink = document.createElement('div');\n",
              "          docLink.innerHTML = docLinkHtml;\n",
              "          element.appendChild(docLink);\n",
              "        }\n",
              "      </script>\n",
              "    </div>\n",
              "  </div>\n",
              "  "
            ]
          },
          "metadata": {},
          "execution_count": 33
        }
      ]
    },
    {
      "cell_type": "markdown",
      "source": [
        "Увеличение количества слоев увеличивает разрыв между accuracy и val_accuracy. Это похоже на переобучение сети. В то время как увеличение количества нейронов не приводит к переобучению."
      ],
      "metadata": {
        "id": "TL1pvInM_Orl"
      }
    },
    {
      "cell_type": "code",
      "source": [
        "from sklearn.metrics import confusion_matrix, ConfusionMatrixDisplay"
      ],
      "metadata": {
        "id": "Vt6ugokr_LKB"
      },
      "execution_count": null,
      "outputs": []
    },
    {
      "cell_type": "code",
      "source": [
        "y_pred = np.argmax(model1.predict(test_images), axis=1)\n",
        "y_pred[:10]"
      ],
      "metadata": {
        "colab": {
          "base_uri": "https://localhost:8080/"
        },
        "id": "7x1tJoEh_LM3",
        "outputId": "ffc412d5-aec0-43fc-f1c0-4df7d9d96538"
      },
      "execution_count": null,
      "outputs": [
        {
          "output_type": "stream",
          "name": "stdout",
          "text": [
            "313/313 [==============================] - 1s 2ms/step\n"
          ]
        },
        {
          "output_type": "execute_result",
          "data": {
            "text/plain": [
              "array([9, 2, 1, 1, 6, 1, 4, 6, 5, 7])"
            ]
          },
          "metadata": {},
          "execution_count": 35
        }
      ]
    },
    {
      "cell_type": "code",
      "source": [
        "CM = confusion_matrix(test_labels, y_pred)\n",
        "print(CM)"
      ],
      "metadata": {
        "colab": {
          "base_uri": "https://localhost:8080/"
        },
        "id": "6eK6Ctjb_LPe",
        "outputId": "c0c3b09b-b8b8-42ba-bd19-479bffc9be8d"
      },
      "execution_count": null,
      "outputs": [
        {
          "output_type": "stream",
          "name": "stdout",
          "text": [
            "[[724   0  14  28   2   0 224   1   7   0]\n",
            " [  0 956   2  23   2   0  17   0   0   0]\n",
            " [ 11   0 777  12  93   0 106   0   1   0]\n",
            " [ 12   2   7 841  31   0 104   0   3   0]\n",
            " [  0   0 107  25 784   0  84   0   0   0]\n",
            " [  0   0   0   2   0 771   2 199   3  23]\n",
            " [ 64   1  97  19  71   0 737   0  11   0]\n",
            " [  0   0   0   0   0   1   0 980   0  19]\n",
            " [  5   0   1   5   8   1  18  10 952   0]\n",
            " [  0   0   0   1   0   4   1  73   0 921]]\n"
          ]
        }
      ]
    },
    {
      "cell_type": "code",
      "source": [
        "disp = ConfusionMatrixDisplay(confusion_matrix=CM, display_labels=np.arange(10))\n",
        "\n",
        "disp.plot(values_format = '.3g')\n",
        "plt.show()"
      ],
      "metadata": {
        "colab": {
          "base_uri": "https://localhost:8080/",
          "height": 279
        },
        "id": "j68OOL0P_LYD",
        "outputId": "bad85437-43e9-47a5-9b65-854891fb2803"
      },
      "execution_count": null,
      "outputs": [
        {
          "output_type": "display_data",
          "data": {
            "text/plain": [
              "<Figure size 432x288 with 2 Axes>"
            ],
            "image/png": "[encoded data removed]"
          },
          "metadata": {
            "needs_background": "light"
          }
        }
      ]
    }
  ]
}